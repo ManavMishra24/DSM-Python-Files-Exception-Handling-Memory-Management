{
 "cells": [
  {
   "cell_type": "markdown",
   "id": "0e9f8f74-e8c9-421e-b973-af01e8957448",
   "metadata": {},
   "source": [
    "BEST PRACTICES IN EXCEPTION HANDLING"
   ]
  },
  {
   "cell_type": "code",
   "execution_count": 4,
   "id": "d067947a-3bb2-431f-965a-b09d3c207964",
   "metadata": {},
   "outputs": [
    {
     "name": "stdout",
     "output_type": "stream",
     "text": [
      "division by zero\n"
     ]
    }
   ],
   "source": [
    "#1 Use always a specific exception\n",
    "\n",
    "try:\n",
    "    10/0\n",
    "except Exception as e:\n",
    "    print(e)    # Wrong Way"
   ]
  },
  {
   "cell_type": "code",
   "execution_count": 3,
   "id": "3dc12aaa-880f-41c8-8d61-f9a3152298b7",
   "metadata": {},
   "outputs": [
    {
     "name": "stdout",
     "output_type": "stream",
     "text": [
      "division by zero\n"
     ]
    }
   ],
   "source": [
    "try:\n",
    "    10/0\n",
    "except ZeroDivisionError as e:\n",
    "    print(e)   # Right Way"
   ]
  },
  {
   "cell_type": "code",
   "execution_count": 5,
   "id": "2df2274e-25a5-4bbe-a850-feddcd0f26bf",
   "metadata": {},
   "outputs": [
    {
     "name": "stdout",
     "output_type": "stream",
     "text": [
      "I'm trying to handle a ZeroDivisionError division by zero\n"
     ]
    }
   ],
   "source": [
    "#2 Always Print a Proper Message\n",
    "\n",
    "try:\n",
    "    10/0\n",
    "except ZeroDivisionError as e:\n",
    "    print(\"I'm trying to handle a ZeroDivisionError\", e)"
   ]
  },
  {
   "cell_type": "code",
   "execution_count": 6,
   "id": "32d0add6-7e49-4328-abfa-f1320b842751",
   "metadata": {},
   "outputs": [],
   "source": [
    "#3 Always Try to Log your Error\n",
    "import logging\n",
    "logging.basicConfig(filename = \"error.log\", level = logging.ERROR)\n",
    "try:\n",
    "    10/0\n",
    "except ZeroDivisionError as e:\n",
    "    logging.error(\"I'm trying to handle a ZeroDivisionError {}\".format(e))"
   ]
  },
  {
   "cell_type": "code",
   "execution_count": 7,
   "id": "2aa9b1c7-60f3-4393-8a19-461af6c1e8df",
   "metadata": {},
   "outputs": [],
   "source": [
    "#4 Always avoid to write multiple Exception Handling\n",
    "\n",
    "try:\n",
    "    10/0\n",
    "except AttributeError as e:\n",
    "    logging.error(\"I'm trying to handle a Attribute Error {}\".format(e))\n",
    "except FileNotFoundError as e:\n",
    "    logging.error(\"I'm trying to handle a FileNotFound Error {}\".format(e))    \n",
    "except ZeroDivisionError as e:\n",
    "    logging.error(\"I'm trying to handle a ZeroDivisionError {}\".format(e))"
   ]
  },
  {
   "cell_type": "code",
   "execution_count": null,
   "id": "e47db842-9cf6-44f9-9e8a-7fd840b71802",
   "metadata": {},
   "outputs": [],
   "source": [
    "#5 Always Document All The Error"
   ]
  },
  {
   "cell_type": "code",
   "execution_count": 9,
   "id": "c48acb95-f4b1-4d6c-9302-ee98f8046a9a",
   "metadata": {},
   "outputs": [],
   "source": [
    "#6 CleanUp all the Resources\n",
    "try:\n",
    "    with open(\"tesst.txt\", 'w') as f:\n",
    "        f.write(\"This is my data to file\")\n",
    "except FileNotFoundError as e:\n",
    "    logging.error(\"I'm handling File Not Found {}\".format(e))\n",
    "finally:\n",
    "    f.close()"
   ]
  }
 ],
 "metadata": {
  "kernelspec": {
   "display_name": "Python 3 (ipykernel)",
   "language": "python",
   "name": "python3"
  },
  "language_info": {
   "codemirror_mode": {
    "name": "ipython",
    "version": 3
   },
   "file_extension": ".py",
   "mimetype": "text/x-python",
   "name": "python",
   "nbconvert_exporter": "python",
   "pygments_lexer": "ipython3",
   "version": "3.10.8"
  }
 },
 "nbformat": 4,
 "nbformat_minor": 5
}
