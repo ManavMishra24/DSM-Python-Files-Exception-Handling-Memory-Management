{
 "cells": [
  {
   "cell_type": "markdown",
   "id": "a6198aee-0dd0-419b-8dc6-ca6f9ed09b3d",
   "metadata": {},
   "source": [
    "Custom Exception Handling"
   ]
  },
  {
   "cell_type": "code",
   "execution_count": 16,
   "id": "473e122d-f6c5-4e2f-8238-a8a378f3ce29",
   "metadata": {},
   "outputs": [],
   "source": [
    "#age = int(input(\"Enter your Age: \"))"
   ]
  },
  {
   "cell_type": "code",
   "execution_count": 20,
   "id": "1d069a85-93c2-45d8-9ef6-3df377a231ed",
   "metadata": {},
   "outputs": [],
   "source": [
    "class validateage(Exception):\n",
    "    \n",
    "    def __init__(self, msg):\n",
    "        self.msg = msg"
   ]
  },
  {
   "cell_type": "code",
   "execution_count": 21,
   "id": "f3f6c453-29f5-4b64-a14b-9590539bd6db",
   "metadata": {},
   "outputs": [],
   "source": [
    "def validaeage(age):\n",
    "    if age < 0:\n",
    "        raise validateage(\"Entered Age is Negative\")\n",
    "    elif age > 120:\n",
    "        raise validateage(\"Entered Age is very high\")\n",
    "    else:\n",
    "        print(\"Age is Valid\")"
   ]
  },
  {
   "cell_type": "code",
   "execution_count": 22,
   "id": "625a5dc0-8910-4990-b372-339a884d29b9",
   "metadata": {},
   "outputs": [
    {
     "name": "stdin",
     "output_type": "stream",
     "text": [
      "Enter your Age:  -10\n"
     ]
    },
    {
     "name": "stdout",
     "output_type": "stream",
     "text": [
      "Entered Age is Negative\n"
     ]
    }
   ],
   "source": [
    "try:\n",
    "    age = int(input(\"Enter your Age: \"))\n",
    "    validaeage(age)\n",
    "except validateage as e:\n",
    "    print(e)"
   ]
  }
 ],
 "metadata": {
  "kernelspec": {
   "display_name": "Python 3 (ipykernel)",
   "language": "python",
   "name": "python3"
  },
  "language_info": {
   "codemirror_mode": {
    "name": "ipython",
    "version": 3
   },
   "file_extension": ".py",
   "mimetype": "text/x-python",
   "name": "python",
   "nbconvert_exporter": "python",
   "pygments_lexer": "ipython3",
   "version": "3.10.8"
  }
 },
 "nbformat": 4,
 "nbformat_minor": 5
}
