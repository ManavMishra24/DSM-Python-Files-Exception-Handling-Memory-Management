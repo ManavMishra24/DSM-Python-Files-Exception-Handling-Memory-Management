{
 "cells": [
  {
   "cell_type": "markdown",
   "id": "472c94ed-adc7-44be-ad8d-93eab9d185a9",
   "metadata": {},
   "source": [
    "MULTITHREADING"
   ]
  },
  {
   "cell_type": "code",
   "execution_count": 1,
   "id": "52b449f7-ddca-4257-9cd2-192941f8611f",
   "metadata": {},
   "outputs": [],
   "source": [
    "import threading"
   ]
  },
  {
   "cell_type": "code",
   "execution_count": 6,
   "id": "40437cd4-75f3-47bf-8ffa-a3568545d9ad",
   "metadata": {},
   "outputs": [],
   "source": [
    "def test(id):\n",
    "    print(\"prog start %d \"% id)"
   ]
  },
  {
   "cell_type": "code",
   "execution_count": 7,
   "id": "64dcb497-6eff-4e96-ad07-2f24e0cc5a86",
   "metadata": {},
   "outputs": [
    {
     "name": "stdout",
     "output_type": "stream",
     "text": [
      "prog start 45 \n"
     ]
    }
   ],
   "source": [
    "test(45)"
   ]
  },
  {
   "cell_type": "code",
   "execution_count": 9,
   "id": "14e2bb28-da38-4951-b724-78518185cddf",
   "metadata": {},
   "outputs": [],
   "source": [
    "thread = [threading.Thread(target=test, args=(i,)) for i in range(10)]"
   ]
  },
  {
   "cell_type": "code",
   "execution_count": 10,
   "id": "9e997dbe-0927-49be-a2c2-8074983d3568",
   "metadata": {},
   "outputs": [
    {
     "name": "stdout",
     "output_type": "stream",
     "text": [
      "prog start 0 \n",
      "prog start 1 \n",
      "prog start 2 \n",
      "prog start 3 \n",
      "prog start 4 \n",
      "prog start 5 \n",
      "prog start 6 \n",
      "prog start 7 \n",
      "prog start 8 \n",
      "prog start 9 \n"
     ]
    }
   ],
   "source": [
    "for t in thread:\n",
    "    t.start()"
   ]
  },
  {
   "cell_type": "code",
   "execution_count": 11,
   "id": "42e13b47-8eca-42b4-be27-06dee5104d6f",
   "metadata": {},
   "outputs": [
    {
     "data": {
      "text/plain": [
       "[0, 1, 2, 3, 4, 5, 6, 7, 8, 9]"
      ]
     },
     "execution_count": 11,
     "metadata": {},
     "output_type": "execute_result"
    }
   ],
   "source": [
    "list(range(10))"
   ]
  },
  {
   "cell_type": "code",
   "execution_count": 12,
   "id": "2c79d8d9-4a61-4215-b0f8-58cb522180b3",
   "metadata": {},
   "outputs": [
    {
     "data": {
      "text/plain": [
       "[<Thread(Thread-5 (test), stopped 140187363423808)>,\n",
       " <Thread(Thread-6 (test), stopped 140187363423808)>,\n",
       " <Thread(Thread-7 (test), stopped 140187363423808)>,\n",
       " <Thread(Thread-8 (test), stopped 140187363423808)>,\n",
       " <Thread(Thread-9 (test), stopped 140187363423808)>,\n",
       " <Thread(Thread-10 (test), stopped 140187363423808)>,\n",
       " <Thread(Thread-11 (test), stopped 140187363423808)>,\n",
       " <Thread(Thread-12 (test), stopped 140187363423808)>,\n",
       " <Thread(Thread-13 (test), stopped 140187363423808)>,\n",
       " <Thread(Thread-14 (test), stopped 140187363423808)>]"
      ]
     },
     "execution_count": 12,
     "metadata": {},
     "output_type": "execute_result"
    }
   ],
   "source": [
    "thread"
   ]
  },
  {
   "cell_type": "code",
   "execution_count": 13,
   "id": "23d530bf-2eb8-4fc5-9b73-f186edb6931a",
   "metadata": {},
   "outputs": [
    {
     "data": {
      "text/plain": [
       "140187738175552"
      ]
     },
     "execution_count": 13,
     "metadata": {},
     "output_type": "execute_result"
    }
   ],
   "source": [
    "id(thread)"
   ]
  },
  {
   "cell_type": "code",
   "execution_count": 15,
   "id": "b6908b02-80ef-439b-9634-192d1d72359e",
   "metadata": {},
   "outputs": [],
   "source": [
    "import threading\n",
    "import urllib.request\n",
    "\n",
    "def file_download(url, filname):\n",
    "    urllib.request.urlretrieve(url, filname)"
   ]
  },
  {
   "cell_type": "code",
   "execution_count": 18,
   "id": "62bc55c0-82fa-45ab-a16c-d992f0909204",
   "metadata": {},
   "outputs": [],
   "source": [
    "file_download('https://raw.githubusercontent.com/itsfoss/text-files/master/agatha.txt', \"tppt.txt\")"
   ]
  },
  {
   "cell_type": "code",
   "execution_count": 19,
   "id": "d0a46493-32c9-4ed2-bc9e-5770acdd9a6d",
   "metadata": {},
   "outputs": [],
   "source": [
    "url_list = ['https://raw.githubusercontent.com/itsfoss/text-files/master/agatha.txt','https://raw.githubusercontent.com/itsfoss/text-files/master/sample_log_file.txt','https://raw.githubusercontent.com/itsfoss/text-files/master/sherlock.txt']"
   ]
  },
  {
   "cell_type": "code",
   "execution_count": 20,
   "id": "bcabcac3-70f4-43eb-9198-6a691c3879e1",
   "metadata": {},
   "outputs": [
    {
     "data": {
      "text/plain": [
       "['https://raw.githubusercontent.com/itsfoss/text-files/master/agatha.txt',\n",
       " 'https://raw.githubusercontent.com/itsfoss/text-files/master/sample_log_file.txt',\n",
       " 'https://raw.githubusercontent.com/itsfoss/text-files/master/sherlock.txt']"
      ]
     },
     "execution_count": 20,
     "metadata": {},
     "output_type": "execute_result"
    }
   ],
   "source": [
    "url_list"
   ]
  },
  {
   "cell_type": "code",
   "execution_count": 21,
   "id": "d73a8cf8-bd4f-4b54-b7b1-b293e09a43ec",
   "metadata": {},
   "outputs": [],
   "source": [
    "file_name_list = ['data1.txt','data2.txt','data3.txt']"
   ]
  },
  {
   "cell_type": "code",
   "execution_count": 24,
   "id": "a6546710-8ec5-4813-ab36-a0c968fa01a9",
   "metadata": {},
   "outputs": [],
   "source": [
    "ther = [threading.Thread(target = file_download, args = (url_list[i], file_name_list[i])) for i in range(len(url_list))]"
   ]
  },
  {
   "cell_type": "code",
   "execution_count": 25,
   "id": "4106c989-77dc-49bd-9a73-14255adeac1e",
   "metadata": {},
   "outputs": [
    {
     "data": {
      "text/plain": [
       "[<Thread(Thread-15 (file_download), initial)>,\n",
       " <Thread(Thread-16 (file_download), initial)>,\n",
       " <Thread(Thread-17 (file_download), initial)>]"
      ]
     },
     "execution_count": 25,
     "metadata": {},
     "output_type": "execute_result"
    }
   ],
   "source": [
    "ther"
   ]
  },
  {
   "cell_type": "code",
   "execution_count": 26,
   "id": "02e3db70-a18c-4fb9-bf0d-8a4e1826ed67",
   "metadata": {},
   "outputs": [],
   "source": [
    "for t in ther:\n",
    "    t.start()"
   ]
  },
  {
   "cell_type": "code",
   "execution_count": 27,
   "id": "ce16d8dd-fb0a-4444-b926-8a804ac1f0a8",
   "metadata": {},
   "outputs": [],
   "source": [
    "import time"
   ]
  },
  {
   "cell_type": "code",
   "execution_count": 34,
   "id": "775de864-58d8-408f-b262-adca971898ef",
   "metadata": {},
   "outputs": [],
   "source": [
    "def test1(id):\n",
    "    for i in range(10):\n",
    "        print(\"test1 %d printing %d %s\" %(id, i, time.ctime()))\n",
    "        time.sleep(1)"
   ]
  },
  {
   "cell_type": "code",
   "execution_count": 35,
   "id": "8f6fa282-328a-46ec-b2a4-5c7d0ab0cc78",
   "metadata": {},
   "outputs": [
    {
     "name": "stdout",
     "output_type": "stream",
     "text": [
      "test1 1 printing 0 Sat Mar  4 11:15:30 2023\n",
      "test1 1 printing 1 Sat Mar  4 11:15:31 2023\n",
      "test1 1 printing 2 Sat Mar  4 11:15:32 2023\n",
      "test1 1 printing 3 Sat Mar  4 11:15:33 2023\n",
      "test1 1 printing 4 Sat Mar  4 11:15:34 2023\n",
      "test1 1 printing 5 Sat Mar  4 11:15:35 2023\n",
      "test1 1 printing 6 Sat Mar  4 11:15:36 2023\n",
      "test1 1 printing 7 Sat Mar  4 11:15:37 2023\n",
      "test1 1 printing 8 Sat Mar  4 11:15:38 2023\n",
      "test1 1 printing 9 Sat Mar  4 11:15:39 2023\n"
     ]
    }
   ],
   "source": [
    "test1(1)"
   ]
  },
  {
   "cell_type": "code",
   "execution_count": 36,
   "id": "26a1a7b2-bb18-4b95-be3d-aca21fb7226a",
   "metadata": {},
   "outputs": [],
   "source": [
    "thread1 = [threading.Thread(target=test1, args = (i,)) for i in range(3)]"
   ]
  },
  {
   "cell_type": "code",
   "execution_count": 37,
   "id": "eac4a924-924c-41a9-aaee-064eb0c42576",
   "metadata": {},
   "outputs": [
    {
     "name": "stdout",
     "output_type": "stream",
     "text": [
      "test1 0 printing 0 Sat Mar  4 11:15:51 2023\n",
      "test1 1 printing 0 Sat Mar  4 11:15:51 2023\n",
      "test1 2 printing 0 Sat Mar  4 11:15:51 2023\n",
      "test1 2 printing 1 Sat Mar  4 11:15:52 2023test1 0 printing 1 Sat Mar  4 11:15:52 2023\n",
      "test1 1 printing 1 Sat Mar  4 11:15:52 2023\n",
      "\n",
      "test1 0 printing 2 Sat Mar  4 11:15:53 2023test1 1 printing 2 Sat Mar  4 11:15:53 2023\n",
      "test1 2 printing 2 Sat Mar  4 11:15:53 2023\n",
      "\n",
      "test1 1 printing 3 Sat Mar  4 11:15:54 2023test1 2 printing 3 Sat Mar  4 11:15:54 2023\n",
      "test1 0 printing 3 Sat Mar  4 11:15:54 2023\n",
      "\n",
      "test1 2 printing 4 Sat Mar  4 11:15:55 2023test1 0 printing 4 Sat Mar  4 11:15:55 2023\n",
      "test1 1 printing 4 Sat Mar  4 11:15:55 2023\n",
      "\n",
      "test1 0 printing 5 Sat Mar  4 11:15:56 2023test1 1 printing 5 Sat Mar  4 11:15:56 2023\n",
      "test1 2 printing 5 Sat Mar  4 11:15:56 2023\n",
      "\n",
      "test1 2 printing 6 Sat Mar  4 11:15:57 2023\n",
      "test1 1 printing 6 Sat Mar  4 11:15:57 2023\n",
      "test1 0 printing 6 Sat Mar  4 11:15:57 2023\n",
      "test1 2 printing 7 Sat Mar  4 11:15:58 2023test1 1 printing 7 Sat Mar  4 11:15:58 2023\n",
      "test1 0 printing 7 Sat Mar  4 11:15:58 2023\n",
      "\n",
      "test1 1 printing 8 Sat Mar  4 11:15:59 2023\n",
      "test1 0 printing 8 Sat Mar  4 11:15:59 2023\n",
      "test1 2 printing 8 Sat Mar  4 11:15:59 2023\n",
      "test1 1 printing 9 Sat Mar  4 11:16:00 2023test1 0 printing 9 Sat Mar  4 11:16:00 2023\n",
      "test1 2 printing 9 Sat Mar  4 11:16:00 2023\n",
      "\n"
     ]
    }
   ],
   "source": [
    "for t in thread1:\n",
    "    t.start()"
   ]
  },
  {
   "cell_type": "code",
   "execution_count": 40,
   "id": "3263d076-7acf-4d86-8815-780e4c07c312",
   "metadata": {},
   "outputs": [],
   "source": [
    "shared_var = 0\n",
    "lock_var = threading.Lock()"
   ]
  },
  {
   "cell_type": "code",
   "execution_count": 45,
   "id": "ff5d4c38-5659-49e2-9a18-8a90a1f9f8be",
   "metadata": {},
   "outputs": [
    {
     "ename": "RuntimeError",
     "evalue": "threads can only be started once",
     "output_type": "error",
     "traceback": [
      "\u001b[0;31m---------------------------------------------------------------------------\u001b[0m",
      "\u001b[0;31mRuntimeError\u001b[0m                              Traceback (most recent call last)",
      "Cell \u001b[0;32mIn[45], line 8\u001b[0m\n\u001b[1;32m      6\u001b[0m ther3 \u001b[38;5;241m=\u001b[39m [threading\u001b[38;5;241m.\u001b[39mThread(target\u001b[38;5;241m=\u001b[39mtest2, args \u001b[38;5;241m=\u001b[39m (i,)) \u001b[38;5;28;01mfor\u001b[39;00m i \u001b[38;5;129;01min\u001b[39;00m \u001b[38;5;28mrange\u001b[39m(\u001b[38;5;241m3\u001b[39m)]\n\u001b[1;32m      7\u001b[0m \u001b[38;5;28;01mfor\u001b[39;00m i \u001b[38;5;129;01min\u001b[39;00m ther3:\n\u001b[0;32m----> 8\u001b[0m     \u001b[43mt\u001b[49m\u001b[38;5;241;43m.\u001b[39;49m\u001b[43mstart\u001b[49m\u001b[43m(\u001b[49m\u001b[43m)\u001b[49m\n",
      "File \u001b[0;32m/opt/conda/lib/python3.10/threading.py:930\u001b[0m, in \u001b[0;36mThread.start\u001b[0;34m(self)\u001b[0m\n\u001b[1;32m    927\u001b[0m     \u001b[38;5;28;01mraise\u001b[39;00m \u001b[38;5;167;01mRuntimeError\u001b[39;00m(\u001b[38;5;124m\"\u001b[39m\u001b[38;5;124mthread.__init__() not called\u001b[39m\u001b[38;5;124m\"\u001b[39m)\n\u001b[1;32m    929\u001b[0m \u001b[38;5;28;01mif\u001b[39;00m \u001b[38;5;28mself\u001b[39m\u001b[38;5;241m.\u001b[39m_started\u001b[38;5;241m.\u001b[39mis_set():\n\u001b[0;32m--> 930\u001b[0m     \u001b[38;5;28;01mraise\u001b[39;00m \u001b[38;5;167;01mRuntimeError\u001b[39;00m(\u001b[38;5;124m\"\u001b[39m\u001b[38;5;124mthreads can only be started once\u001b[39m\u001b[38;5;124m\"\u001b[39m)\n\u001b[1;32m    932\u001b[0m \u001b[38;5;28;01mwith\u001b[39;00m _active_limbo_lock:\n\u001b[1;32m    933\u001b[0m     _limbo[\u001b[38;5;28mself\u001b[39m] \u001b[38;5;241m=\u001b[39m \u001b[38;5;28mself\u001b[39m\n",
      "\u001b[0;31mRuntimeError\u001b[0m: threads can only be started once"
     ]
    }
   ],
   "source": [
    "def test2(id):\n",
    "    global shared_var\n",
    "    with lock_var:\n",
    "        shared_var = shared_var + 1\n",
    "        print(\"test2 id is %d has increased the shared var by %d \" % (id, shared_var))\n",
    "ther3 = [threading.Thread(target=test2, args = (i,)) for i in range(3)]\n",
    "for i in ther3:\n",
    "    t.start()"
   ]
  },
  {
   "cell_type": "code",
   "execution_count": null,
   "id": "2faaa762-3838-4b1a-8637-4549f351d5fb",
   "metadata": {},
   "outputs": [],
   "source": []
  }
 ],
 "metadata": {
  "kernelspec": {
   "display_name": "Python 3 (ipykernel)",
   "language": "python",
   "name": "python3"
  },
  "language_info": {
   "codemirror_mode": {
    "name": "ipython",
    "version": 3
   },
   "file_extension": ".py",
   "mimetype": "text/x-python",
   "name": "python",
   "nbconvert_exporter": "python",
   "pygments_lexer": "ipython3",
   "version": "3.10.8"
  }
 },
 "nbformat": 4,
 "nbformat_minor": 5
}
