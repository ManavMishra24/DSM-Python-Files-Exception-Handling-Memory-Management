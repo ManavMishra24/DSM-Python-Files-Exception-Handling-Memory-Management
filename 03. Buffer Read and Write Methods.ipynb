{
 "cells": [
  {
   "cell_type": "markdown",
   "id": "238acf38-3ec8-4404-91f3-14903b8cae55",
   "metadata": {},
   "source": [
    "Buffer Read & Write"
   ]
  },
  {
   "cell_type": "code",
   "execution_count": 1,
   "id": "7472ba68-2b7a-4f08-8e56-604c902d6976",
   "metadata": {},
   "outputs": [],
   "source": [
    "import io"
   ]
  },
  {
   "cell_type": "code",
   "execution_count": 5,
   "id": "8e7446c6-38f5-4849-9a59-336f56758bcb",
   "metadata": {},
   "outputs": [],
   "source": [
    "with open(\"test1.txt\", \"wb\") as f:\n",
    "    file = io.BufferedWriter(f)\n",
    "    \n",
    "    file.write(b\"This is my first line\\n\")\n",
    "    file.write(b\"This is my second line\")\n",
    "    file.flush()"
   ]
  },
  {
   "cell_type": "code",
   "execution_count": 7,
   "id": "7a7e54e4-93c1-4fad-b447-b8bac0bc72e1",
   "metadata": {},
   "outputs": [
    {
     "name": "stdout",
     "output_type": "stream",
     "text": [
      "b'This is my'\n"
     ]
    }
   ],
   "source": [
    "with open(\"test1.txt\", \"rb\") as f:\n",
    "    file = io.BufferedReader(f)\n",
    "    data = file.read(10)\n",
    "    print(data)"
   ]
  }
 ],
 "metadata": {
  "kernelspec": {
   "display_name": "Python 3 (ipykernel)",
   "language": "python",
   "name": "python3"
  },
  "language_info": {
   "codemirror_mode": {
    "name": "ipython",
    "version": 3
   },
   "file_extension": ".py",
   "mimetype": "text/x-python",
   "name": "python",
   "nbconvert_exporter": "python",
   "pygments_lexer": "ipython3",
   "version": "3.10.8"
  }
 },
 "nbformat": 4,
 "nbformat_minor": 5
}
