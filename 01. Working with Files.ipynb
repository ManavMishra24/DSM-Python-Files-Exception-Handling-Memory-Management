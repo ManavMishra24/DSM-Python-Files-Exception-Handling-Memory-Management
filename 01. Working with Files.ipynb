{
 "cells": [
  {
   "cell_type": "markdown",
   "id": "fff2e5ff-8595-48ee-87d3-bb6705714535",
   "metadata": {},
   "source": [
    "FILES"
   ]
  },
  {
   "cell_type": "code",
   "execution_count": 1,
   "id": "03f90f53-0dc4-4d74-b509-b5a8a165b6a2",
   "metadata": {},
   "outputs": [],
   "source": [
    "f = open(\"test.txt\", 'w')"
   ]
  },
  {
   "cell_type": "code",
   "execution_count": 2,
   "id": "a6c5959a-dca0-49da-8161-785a4720a6d3",
   "metadata": {},
   "outputs": [
    {
     "data": {
      "text/plain": [
       "'/home/jovyan/work'"
      ]
     },
     "execution_count": 2,
     "metadata": {},
     "output_type": "execute_result"
    }
   ],
   "source": [
    "pwd"
   ]
  },
  {
   "cell_type": "code",
   "execution_count": 3,
   "id": "3de49092-aa4c-4782-b916-efc5529488fc",
   "metadata": {},
   "outputs": [
    {
     "name": "stdout",
     "output_type": "stream",
     "text": [
      " README.md   sample-code.ipynb   test.txt  'Working with Files.ipynb'\n"
     ]
    }
   ],
   "source": [
    "ls"
   ]
  },
  {
   "cell_type": "code",
   "execution_count": 4,
   "id": "6ad71d3e-d6e0-440d-b3f3-e64a6ecdfd1a",
   "metadata": {},
   "outputs": [
    {
     "name": "stdout",
     "output_type": "stream",
     "text": [
      "[Errno 2] No such file or directory: 'work'\n",
      "/home/jovyan/work\n"
     ]
    }
   ],
   "source": [
    "cd work"
   ]
  },
  {
   "cell_type": "code",
   "execution_count": 5,
   "id": "7745d03f-60aa-46d2-b8c1-04db200d5715",
   "metadata": {},
   "outputs": [
    {
     "name": "stdout",
     "output_type": "stream",
     "text": [
      " README.md   sample-code.ipynb   test.txt  'Working with Files.ipynb'\n"
     ]
    }
   ],
   "source": [
    "ls"
   ]
  },
  {
   "cell_type": "code",
   "execution_count": 6,
   "id": "04cc68a6-538a-4fe8-a04e-79dd4309ec0d",
   "metadata": {},
   "outputs": [
    {
     "data": {
      "text/plain": [
       "30"
      ]
     },
     "execution_count": 6,
     "metadata": {},
     "output_type": "execute_result"
    }
   ],
   "source": [
    "f.write(\"This is my first file to write\")"
   ]
  },
  {
   "cell_type": "code",
   "execution_count": 7,
   "id": "fe579767-c5a6-4abe-9898-236b44927200",
   "metadata": {},
   "outputs": [],
   "source": [
    "f.close()"
   ]
  },
  {
   "cell_type": "code",
   "execution_count": 9,
   "id": "05862ff2-eefb-45dd-a8f8-3ca0fc223fbd",
   "metadata": {},
   "outputs": [],
   "source": [
    "f = open(\"test.txt\", 'w')"
   ]
  },
  {
   "cell_type": "code",
   "execution_count": 10,
   "id": "944973e6-787a-459f-a110-25c1549a96fd",
   "metadata": {},
   "outputs": [
    {
     "data": {
      "text/plain": [
       "15"
      ]
     },
     "execution_count": 10,
     "metadata": {},
     "output_type": "execute_result"
    }
   ],
   "source": [
    "f.write(\"This is my File\")"
   ]
  },
  {
   "cell_type": "code",
   "execution_count": 11,
   "id": "e76f1d1c-0373-4224-afe4-ddaa233d51ea",
   "metadata": {},
   "outputs": [],
   "source": [
    "f.close()"
   ]
  },
  {
   "cell_type": "code",
   "execution_count": 13,
   "id": "793200e8-c518-4937-b31f-64ff25603940",
   "metadata": {},
   "outputs": [],
   "source": [
    "f = open(\"test.txt\", 'a')"
   ]
  },
  {
   "cell_type": "code",
   "execution_count": 14,
   "id": "3be0f747-ed43-449c-9268-f27154725032",
   "metadata": {},
   "outputs": [
    {
     "data": {
      "text/plain": [
       "313"
      ]
     },
     "execution_count": 14,
     "metadata": {},
     "output_type": "execute_result"
    }
   ],
   "source": [
    "f.write(\"Method overriding is a feature of object-oriented programming that allows a subclass to provide a different implementation of a method that is already defined in its parent class. In Python, method overriding is achieved by redefining a method in a subclass that has the same name as a method in its parent class.\")"
   ]
  },
  {
   "cell_type": "code",
   "execution_count": 15,
   "id": "e4cc5106-919d-4325-9921-2f84bc3aeb20",
   "metadata": {},
   "outputs": [],
   "source": [
    "f.close()"
   ]
  },
  {
   "cell_type": "code",
   "execution_count": 16,
   "id": "e5713fb5-7526-4648-822a-84199434d697",
   "metadata": {},
   "outputs": [],
   "source": [
    "f = open(\"test.txt\", 'r')"
   ]
  },
  {
   "cell_type": "code",
   "execution_count": 17,
   "id": "8427caed-6879-4741-9f1c-be08619049b0",
   "metadata": {},
   "outputs": [
    {
     "data": {
      "text/plain": [
       "'This is my FileMethod overriding is a feature of object-oriented programming that allows a subclass to provide a different implementation of a method that is already defined in its parent class. In Python, method overriding is achieved by redefining a method in a subclass that has the same name as a method in its parent class.'"
      ]
     },
     "execution_count": 17,
     "metadata": {},
     "output_type": "execute_result"
    }
   ],
   "source": [
    "f.read()"
   ]
  },
  {
   "cell_type": "code",
   "execution_count": 18,
   "id": "090ecff5-66eb-4cc8-8356-e4819a0ac5e7",
   "metadata": {},
   "outputs": [
    {
     "data": {
      "text/plain": [
       "<_io.TextIOWrapper name='test.txt' mode='r' encoding='UTF-8'>"
      ]
     },
     "execution_count": 18,
     "metadata": {},
     "output_type": "execute_result"
    }
   ],
   "source": [
    "f"
   ]
  },
  {
   "cell_type": "code",
   "execution_count": 19,
   "id": "781782c9-8fe4-4832-a500-eaf1698bb049",
   "metadata": {},
   "outputs": [
    {
     "data": {
      "text/plain": [
       "''"
      ]
     },
     "execution_count": 19,
     "metadata": {},
     "output_type": "execute_result"
    }
   ],
   "source": [
    "f.readline()"
   ]
  },
  {
   "cell_type": "code",
   "execution_count": 20,
   "id": "16d224e6-7297-44f8-b1da-f258a5d340ff",
   "metadata": {},
   "outputs": [
    {
     "data": {
      "text/plain": [
       "0"
      ]
     },
     "execution_count": 20,
     "metadata": {},
     "output_type": "execute_result"
    }
   ],
   "source": [
    "f.seek(0)"
   ]
  },
  {
   "cell_type": "code",
   "execution_count": 21,
   "id": "482ca8dd-104b-4555-a072-af58dabd500a",
   "metadata": {},
   "outputs": [
    {
     "data": {
      "text/plain": [
       "'This is my FileMethod overriding is a feature of object-oriented programming that allows a subclass to provide a different implementation of a method that is already defined in its parent class. In Python, method overriding is achieved by redefining a method in a subclass that has the same name as a method in its parent class.'"
      ]
     },
     "execution_count": 21,
     "metadata": {},
     "output_type": "execute_result"
    }
   ],
   "source": [
    "f.readline()"
   ]
  },
  {
   "cell_type": "code",
   "execution_count": 22,
   "id": "03f13354-e486-43b1-9ce1-9666c512722f",
   "metadata": {},
   "outputs": [],
   "source": [
    "data1 = open(\"test.txt\", 'r')"
   ]
  },
  {
   "cell_type": "code",
   "execution_count": 23,
   "id": "3168c197-fcae-476d-beaa-162f4deec5d3",
   "metadata": {},
   "outputs": [
    {
     "name": "stdout",
     "output_type": "stream",
     "text": [
      "This is my FileMethod overriding is a feature of object-oriented programming that allows a subclass to provide a different implementation of a method that is already defined in its parent class. In Python, method overriding is achieved by redefining a method in a subclass that has the same name as a method in its parent class.\n"
     ]
    }
   ],
   "source": [
    "for i in data1:\n",
    "    print(i)"
   ]
  },
  {
   "cell_type": "code",
   "execution_count": 27,
   "id": "face910e-e517-45ae-a3b5-ef66aafcd717",
   "metadata": {},
   "outputs": [
    {
     "ename": "FileNotFoundError",
     "evalue": "[Errno 2] No such file or directory: 'test.txt'",
     "output_type": "error",
     "traceback": [
      "\u001b[0;31m---------------------------------------------------------------------------\u001b[0m",
      "\u001b[0;31mFileNotFoundError\u001b[0m                         Traceback (most recent call last)",
      "Cell \u001b[0;32mIn[27], line 1\u001b[0m\n\u001b[0;32m----> 1\u001b[0m \u001b[43mos\u001b[49m\u001b[38;5;241;43m.\u001b[39;49m\u001b[43mremove\u001b[49m\u001b[43m(\u001b[49m\u001b[38;5;124;43m\"\u001b[39;49m\u001b[38;5;124;43mtest.txt\u001b[39;49m\u001b[38;5;124;43m\"\u001b[39;49m\u001b[43m)\u001b[49m\n",
      "\u001b[0;31mFileNotFoundError\u001b[0m: [Errno 2] No such file or directory: 'test.txt'"
     ]
    }
   ],
   "source": [
    "os.remove(\"test.txt\")"
   ]
  },
  {
   "cell_type": "code",
   "execution_count": 28,
   "id": "587615ac-5c94-4a95-ae7a-387e34d78b59",
   "metadata": {},
   "outputs": [],
   "source": [
    "# Above file was present previously but its not now."
   ]
  },
  {
   "cell_type": "code",
   "execution_count": 30,
   "id": "50d951fb-8615-4d3e-ad7e-87c91c272dac",
   "metadata": {},
   "outputs": [],
   "source": [
    "f = open(\"test1.txt\", 'w')"
   ]
  },
  {
   "cell_type": "code",
   "execution_count": 31,
   "id": "75be4aef-235e-4bd4-b6fe-a4f863ea8a9c",
   "metadata": {},
   "outputs": [
    {
     "data": {
      "text/plain": [
       "313"
      ]
     },
     "execution_count": 31,
     "metadata": {},
     "output_type": "execute_result"
    }
   ],
   "source": [
    "f.write(\"Method overriding is a feature of object-oriented programming that allows a subclass to provide a different implementation of a method that is already defined in its parent class. In Python, method overriding is achieved by redefining a method in a subclass that has the same name as a method in its parent class.\")"
   ]
  },
  {
   "cell_type": "code",
   "execution_count": 32,
   "id": "789df705-bb2e-4c59-973f-d430397d3d53",
   "metadata": {},
   "outputs": [],
   "source": [
    "f.close()"
   ]
  },
  {
   "cell_type": "code",
   "execution_count": 33,
   "id": "c9950eaf-3d25-465c-9cdf-905e489cb6c7",
   "metadata": {},
   "outputs": [],
   "source": [
    "os.rename(\"test1.txt\", \"new.txt\")"
   ]
  },
  {
   "cell_type": "code",
   "execution_count": 34,
   "id": "228b7fbb-5430-4832-9376-9ea7e98f31f6",
   "metadata": {},
   "outputs": [],
   "source": [
    "import shutil"
   ]
  },
  {
   "cell_type": "code",
   "execution_count": 35,
   "id": "9971e270-d336-4ea1-b1db-2daff76a9ea1",
   "metadata": {},
   "outputs": [
    {
     "data": {
      "text/plain": [
       "'copy_new.txt'"
      ]
     },
     "execution_count": 35,
     "metadata": {},
     "output_type": "execute_result"
    }
   ],
   "source": [
    "shutil.copy(\"new.txt\", \"copy_new.txt\")"
   ]
  },
  {
   "cell_type": "code",
   "execution_count": 37,
   "id": "6fffc91e-77d7-4c8f-825d-5542128382d5",
   "metadata": {},
   "outputs": [
    {
     "name": "stdout",
     "output_type": "stream",
     "text": [
      "Method overriding is a feature of object-oriented programming that allows a subclass to provide a different implementation of a method that is already defined in its parent class. In Python, method overriding is achieved by redefining a method in a subclass that has the same name as a method in its parent class.\n"
     ]
    }
   ],
   "source": [
    "with open(\"new.txt\", 'r') as f:\n",
    "    print(f.read())"
   ]
  }
 ],
 "metadata": {
  "kernelspec": {
   "display_name": "Python 3 (ipykernel)",
   "language": "python",
   "name": "python3"
  },
  "language_info": {
   "codemirror_mode": {
    "name": "ipython",
    "version": 3
   },
   "file_extension": ".py",
   "mimetype": "text/x-python",
   "name": "python",
   "nbconvert_exporter": "python",
   "pygments_lexer": "ipython3",
   "version": "3.10.8"
  }
 },
 "nbformat": 4,
 "nbformat_minor": 5
}
